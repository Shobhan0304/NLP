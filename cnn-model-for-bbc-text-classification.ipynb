{
 "cells": [
  {
   "cell_type": "code",
   "execution_count": 1,
   "id": "d5493a91",
   "metadata": {
    "_cell_guid": "b1076dfc-b9ad-4769-8c92-a6c4dae69d19",
    "_uuid": "8f2839f25d086af736a60e9eeb907d3b93b6e0e5",
    "execution": {
     "iopub.execute_input": "2023-06-25T08:30:30.920492Z",
     "iopub.status.busy": "2023-06-25T08:30:30.920122Z",
     "iopub.status.idle": "2023-06-25T08:30:30.939719Z",
     "shell.execute_reply": "2023-06-25T08:30:30.938600Z"
    },
    "papermill": {
     "duration": 0.03042,
     "end_time": "2023-06-25T08:30:30.942113",
     "exception": false,
     "start_time": "2023-06-25T08:30:30.911693",
     "status": "completed"
    },
    "tags": []
   },
   "outputs": [
    {
     "name": "stdout",
     "output_type": "stream",
     "text": [
      "/kaggle/input/bbc-fulltext-and-category/bbc-text.csv\n"
     ]
    }
   ],
   "source": [
    "# This Python 3 environment comes with many helpful analytics libraries installed\n",
    "# It is defined by the kaggle/python Docker image: https://github.com/kaggle/docker-python\n",
    "# For example, here's several helpful packages to load\n",
    "\n",
    "import numpy as np # linear algebra\n",
    "import pandas as pd # data processing, CSV file I/O (e.g. pd.read_csv)\n",
    "\n",
    "# Input data files are available in the read-only \"../input/\" directory\n",
    "# For example, running this (by clicking run or pressing Shift+Enter) will list all files under the input directory\n",
    "\n",
    "import os\n",
    "for dirname, _, filenames in os.walk('/kaggle/input'):\n",
    "    for filename in filenames:\n",
    "        print(os.path.join(dirname, filename))\n",
    "\n",
    "# You can write up to 20GB to the current directory (/kaggle/working/) that gets preserved as output when you create a version using \"Save & Run All\" \n",
    "# You can also write temporary files to /kaggle/temp/, but they won't be saved outside of the current session"
   ]
  },
  {
   "cell_type": "code",
   "execution_count": 2,
   "id": "86b58179",
   "metadata": {
    "execution": {
     "iopub.execute_input": "2023-06-25T08:30:30.956585Z",
     "iopub.status.busy": "2023-06-25T08:30:30.956186Z",
     "iopub.status.idle": "2023-06-25T08:30:31.087265Z",
     "shell.execute_reply": "2023-06-25T08:30:31.086427Z"
    },
    "papermill": {
     "duration": 0.141193,
     "end_time": "2023-06-25T08:30:31.089880",
     "exception": false,
     "start_time": "2023-06-25T08:30:30.948687",
     "status": "completed"
    },
    "tags": []
   },
   "outputs": [],
   "source": [
    "df = pd.read_csv(\"/kaggle/input/bbc-fulltext-and-category/bbc-text.csv\")"
   ]
  },
  {
   "cell_type": "code",
   "execution_count": 3,
   "id": "67ac2fbc",
   "metadata": {
    "execution": {
     "iopub.execute_input": "2023-06-25T08:30:31.104613Z",
     "iopub.status.busy": "2023-06-25T08:30:31.104039Z",
     "iopub.status.idle": "2023-06-25T08:30:31.129454Z",
     "shell.execute_reply": "2023-06-25T08:30:31.128577Z"
    },
    "papermill": {
     "duration": 0.03527,
     "end_time": "2023-06-25T08:30:31.131596",
     "exception": false,
     "start_time": "2023-06-25T08:30:31.096326",
     "status": "completed"
    },
    "tags": []
   },
   "outputs": [
    {
     "data": {
      "text/html": [
       "<div>\n",
       "<style scoped>\n",
       "    .dataframe tbody tr th:only-of-type {\n",
       "        vertical-align: middle;\n",
       "    }\n",
       "\n",
       "    .dataframe tbody tr th {\n",
       "        vertical-align: top;\n",
       "    }\n",
       "\n",
       "    .dataframe thead th {\n",
       "        text-align: right;\n",
       "    }\n",
       "</style>\n",
       "<table border=\"1\" class=\"dataframe\">\n",
       "  <thead>\n",
       "    <tr style=\"text-align: right;\">\n",
       "      <th></th>\n",
       "      <th>category</th>\n",
       "      <th>text</th>\n",
       "    </tr>\n",
       "  </thead>\n",
       "  <tbody>\n",
       "    <tr>\n",
       "      <th>0</th>\n",
       "      <td>tech</td>\n",
       "      <td>tv future in the hands of viewers with home th...</td>\n",
       "    </tr>\n",
       "    <tr>\n",
       "      <th>1</th>\n",
       "      <td>business</td>\n",
       "      <td>worldcom boss  left books alone  former worldc...</td>\n",
       "    </tr>\n",
       "    <tr>\n",
       "      <th>2</th>\n",
       "      <td>sport</td>\n",
       "      <td>tigers wary of farrell  gamble  leicester say ...</td>\n",
       "    </tr>\n",
       "    <tr>\n",
       "      <th>3</th>\n",
       "      <td>sport</td>\n",
       "      <td>yeading face newcastle in fa cup premiership s...</td>\n",
       "    </tr>\n",
       "    <tr>\n",
       "      <th>4</th>\n",
       "      <td>entertainment</td>\n",
       "      <td>ocean s twelve raids box office ocean s twelve...</td>\n",
       "    </tr>\n",
       "  </tbody>\n",
       "</table>\n",
       "</div>"
      ],
      "text/plain": [
       "        category                                               text\n",
       "0           tech  tv future in the hands of viewers with home th...\n",
       "1       business  worldcom boss  left books alone  former worldc...\n",
       "2          sport  tigers wary of farrell  gamble  leicester say ...\n",
       "3          sport  yeading face newcastle in fa cup premiership s...\n",
       "4  entertainment  ocean s twelve raids box office ocean s twelve..."
      ]
     },
     "execution_count": 3,
     "metadata": {},
     "output_type": "execute_result"
    }
   ],
   "source": [
    "df.head()"
   ]
  },
  {
   "cell_type": "code",
   "execution_count": 4,
   "id": "f41edb6d",
   "metadata": {
    "execution": {
     "iopub.execute_input": "2023-06-25T08:30:31.146623Z",
     "iopub.status.busy": "2023-06-25T08:30:31.146061Z",
     "iopub.status.idle": "2023-06-25T08:30:31.163365Z",
     "shell.execute_reply": "2023-06-25T08:30:31.162641Z"
    },
    "papermill": {
     "duration": 0.027502,
     "end_time": "2023-06-25T08:30:31.165753",
     "exception": false,
     "start_time": "2023-06-25T08:30:31.138251",
     "status": "completed"
    },
    "tags": []
   },
   "outputs": [
    {
     "data": {
      "text/html": [
       "<div>\n",
       "<style scoped>\n",
       "    .dataframe tbody tr th:only-of-type {\n",
       "        vertical-align: middle;\n",
       "    }\n",
       "\n",
       "    .dataframe tbody tr th {\n",
       "        vertical-align: top;\n",
       "    }\n",
       "\n",
       "    .dataframe thead th {\n",
       "        text-align: right;\n",
       "    }\n",
       "</style>\n",
       "<table border=\"1\" class=\"dataframe\">\n",
       "  <thead>\n",
       "    <tr style=\"text-align: right;\">\n",
       "      <th></th>\n",
       "      <th>category</th>\n",
       "      <th>text</th>\n",
       "      <th>target</th>\n",
       "    </tr>\n",
       "  </thead>\n",
       "  <tbody>\n",
       "    <tr>\n",
       "      <th>0</th>\n",
       "      <td>tech</td>\n",
       "      <td>tv future in the hands of viewers with home th...</td>\n",
       "      <td>4</td>\n",
       "    </tr>\n",
       "    <tr>\n",
       "      <th>1</th>\n",
       "      <td>business</td>\n",
       "      <td>worldcom boss  left books alone  former worldc...</td>\n",
       "      <td>0</td>\n",
       "    </tr>\n",
       "    <tr>\n",
       "      <th>2</th>\n",
       "      <td>sport</td>\n",
       "      <td>tigers wary of farrell  gamble  leicester say ...</td>\n",
       "      <td>3</td>\n",
       "    </tr>\n",
       "    <tr>\n",
       "      <th>3</th>\n",
       "      <td>sport</td>\n",
       "      <td>yeading face newcastle in fa cup premiership s...</td>\n",
       "      <td>3</td>\n",
       "    </tr>\n",
       "    <tr>\n",
       "      <th>4</th>\n",
       "      <td>entertainment</td>\n",
       "      <td>ocean s twelve raids box office ocean s twelve...</td>\n",
       "      <td>1</td>\n",
       "    </tr>\n",
       "  </tbody>\n",
       "</table>\n",
       "</div>"
      ],
      "text/plain": [
       "        category                                               text  target\n",
       "0           tech  tv future in the hands of viewers with home th...       4\n",
       "1       business  worldcom boss  left books alone  former worldc...       0\n",
       "2          sport  tigers wary of farrell  gamble  leicester say ...       3\n",
       "3          sport  yeading face newcastle in fa cup premiership s...       3\n",
       "4  entertainment  ocean s twelve raids box office ocean s twelve...       1"
      ]
     },
     "execution_count": 4,
     "metadata": {},
     "output_type": "execute_result"
    }
   ],
   "source": [
    "df['target'] = df['category'].astype('category').cat.codes\n",
    "df.head()"
   ]
  },
  {
   "cell_type": "code",
   "execution_count": 5,
   "id": "4823c210",
   "metadata": {
    "execution": {
     "iopub.execute_input": "2023-06-25T08:30:31.181310Z",
     "iopub.status.busy": "2023-06-25T08:30:31.180682Z",
     "iopub.status.idle": "2023-06-25T08:30:31.188832Z",
     "shell.execute_reply": "2023-06-25T08:30:31.188096Z"
    },
    "papermill": {
     "duration": 0.018189,
     "end_time": "2023-06-25T08:30:31.190891",
     "exception": false,
     "start_time": "2023-06-25T08:30:31.172702",
     "status": "completed"
    },
    "tags": []
   },
   "outputs": [
    {
     "data": {
      "text/plain": [
       "5"
      ]
     },
     "execution_count": 5,
     "metadata": {},
     "output_type": "execute_result"
    }
   ],
   "source": [
    "K = df['target'].max() + 1\n",
    "K"
   ]
  },
  {
   "cell_type": "code",
   "execution_count": 6,
   "id": "37f514ce",
   "metadata": {
    "execution": {
     "iopub.execute_input": "2023-06-25T08:30:31.206579Z",
     "iopub.status.busy": "2023-06-25T08:30:31.206031Z",
     "iopub.status.idle": "2023-06-25T08:30:32.557843Z",
     "shell.execute_reply": "2023-06-25T08:30:32.556699Z"
    },
    "papermill": {
     "duration": 1.362744,
     "end_time": "2023-06-25T08:30:32.560570",
     "exception": false,
     "start_time": "2023-06-25T08:30:31.197826",
     "status": "completed"
    },
    "tags": []
   },
   "outputs": [],
   "source": [
    "from sklearn.model_selection import train_test_split as tts\n",
    "\n",
    "df_train, df_test = tts(df, test_size = 0.3)"
   ]
  },
  {
   "cell_type": "code",
   "execution_count": 7,
   "id": "36086ce4",
   "metadata": {
    "execution": {
     "iopub.execute_input": "2023-06-25T08:30:32.578056Z",
     "iopub.status.busy": "2023-06-25T08:30:32.577610Z",
     "iopub.status.idle": "2023-06-25T08:30:42.529188Z",
     "shell.execute_reply": "2023-06-25T08:30:42.527903Z"
    },
    "papermill": {
     "duration": 9.962948,
     "end_time": "2023-06-25T08:30:42.532111",
     "exception": false,
     "start_time": "2023-06-25T08:30:32.569163",
     "status": "completed"
    },
    "tags": []
   },
   "outputs": [
    {
     "name": "stderr",
     "output_type": "stream",
     "text": [
      "/opt/conda/lib/python3.10/site-packages/tensorflow_io/python/ops/__init__.py:98: UserWarning: unable to load libtensorflow_io_plugins.so: unable to open file: libtensorflow_io_plugins.so, from paths: ['/opt/conda/lib/python3.10/site-packages/tensorflow_io/python/ops/libtensorflow_io_plugins.so']\n",
      "caused by: ['/opt/conda/lib/python3.10/site-packages/tensorflow_io/python/ops/libtensorflow_io_plugins.so: undefined symbol: _ZN3tsl6StatusC1EN10tensorflow5error4CodeESt17basic_string_viewIcSt11char_traitsIcEENS_14SourceLocationE']\n",
      "  warnings.warn(f\"unable to load libtensorflow_io_plugins.so: {e}\")\n",
      "/opt/conda/lib/python3.10/site-packages/tensorflow_io/python/ops/__init__.py:104: UserWarning: file system plugins are not loaded: unable to open file: libtensorflow_io.so, from paths: ['/opt/conda/lib/python3.10/site-packages/tensorflow_io/python/ops/libtensorflow_io.so']\n",
      "caused by: ['/opt/conda/lib/python3.10/site-packages/tensorflow_io/python/ops/libtensorflow_io.so: undefined symbol: _ZTVN10tensorflow13GcsFileSystemE']\n",
      "  warnings.warn(f\"file system plugins are not loaded: {e}\")\n"
     ]
    }
   ],
   "source": [
    "from tensorflow.keras.preprocessing.text import Tokenizer\n",
    "\n",
    "MAX_VOCAB_SIZE = 2000\n",
    "t = Tokenizer(num_words = MAX_VOCAB_SIZE)\n",
    "t.fit_on_texts(df_train['text'])\n",
    "train_seq = t.texts_to_sequences(df_train['text'])\n",
    "test_seq = t.texts_to_sequences(df_test['text'])"
   ]
  },
  {
   "cell_type": "code",
   "execution_count": 8,
   "id": "49599752",
   "metadata": {
    "execution": {
     "iopub.execute_input": "2023-06-25T08:30:42.549096Z",
     "iopub.status.busy": "2023-06-25T08:30:42.547987Z",
     "iopub.status.idle": "2023-06-25T08:30:42.555215Z",
     "shell.execute_reply": "2023-06-25T08:30:42.554004Z"
    },
    "papermill": {
     "duration": 0.018492,
     "end_time": "2023-06-25T08:30:42.557876",
     "exception": false,
     "start_time": "2023-06-25T08:30:42.539384",
     "status": "completed"
    },
    "tags": []
   },
   "outputs": [
    {
     "data": {
      "text/plain": [
       "25597"
      ]
     },
     "execution_count": 8,
     "metadata": {},
     "output_type": "execute_result"
    }
   ],
   "source": [
    "word2idx = t.word_index\n",
    "V = len(word2idx)\n",
    "V"
   ]
  },
  {
   "cell_type": "code",
   "execution_count": 9,
   "id": "8f683462",
   "metadata": {
    "execution": {
     "iopub.execute_input": "2023-06-25T08:30:42.574079Z",
     "iopub.status.busy": "2023-06-25T08:30:42.573663Z",
     "iopub.status.idle": "2023-06-25T08:30:42.641127Z",
     "shell.execute_reply": "2023-06-25T08:30:42.639649Z"
    },
    "papermill": {
     "duration": 0.078979,
     "end_time": "2023-06-25T08:30:42.644227",
     "exception": false,
     "start_time": "2023-06-25T08:30:42.565248",
     "status": "completed"
    },
    "tags": []
   },
   "outputs": [],
   "source": [
    "from tensorflow.keras.preprocessing.sequence import pad_sequences\n",
    "\n",
    "data_train = pad_sequences(train_seq)\n",
    "\n",
    "T = data_train.shape[1]"
   ]
  },
  {
   "cell_type": "code",
   "execution_count": 10,
   "id": "623a96fb",
   "metadata": {
    "execution": {
     "iopub.execute_input": "2023-06-25T08:30:42.660403Z",
     "iopub.status.busy": "2023-06-25T08:30:42.660007Z",
     "iopub.status.idle": "2023-06-25T08:30:42.693661Z",
     "shell.execute_reply": "2023-06-25T08:30:42.692407Z"
    },
    "papermill": {
     "duration": 0.045153,
     "end_time": "2023-06-25T08:30:42.696681",
     "exception": false,
     "start_time": "2023-06-25T08:30:42.651528",
     "status": "completed"
    },
    "tags": []
   },
   "outputs": [
    {
     "data": {
      "text/plain": [
       "(668, 2897)"
      ]
     },
     "execution_count": 10,
     "metadata": {},
     "output_type": "execute_result"
    }
   ],
   "source": [
    "data_test = pad_sequences(test_seq, maxlen=T)\n",
    "data_test.shape"
   ]
  },
  {
   "cell_type": "code",
   "execution_count": 11,
   "id": "34f04622",
   "metadata": {
    "execution": {
     "iopub.execute_input": "2023-06-25T08:30:42.713149Z",
     "iopub.status.busy": "2023-06-25T08:30:42.712771Z",
     "iopub.status.idle": "2023-06-25T08:30:42.720429Z",
     "shell.execute_reply": "2023-06-25T08:30:42.719487Z"
    },
    "papermill": {
     "duration": 0.018621,
     "end_time": "2023-06-25T08:30:42.722723",
     "exception": false,
     "start_time": "2023-06-25T08:30:42.704102",
     "status": "completed"
    },
    "tags": []
   },
   "outputs": [],
   "source": [
    "from tensorflow.keras.layers import Dense, Input, GlobalMaxPooling1D\n",
    "from tensorflow.keras.layers import Conv1D, MaxPooling1D, Embedding\n",
    "from tensorflow.keras.models import Model\n",
    "from tensorflow.keras.losses import SparseCategoricalCrossentropy"
   ]
  },
  {
   "cell_type": "code",
   "execution_count": 12,
   "id": "48aaa394",
   "metadata": {
    "execution": {
     "iopub.execute_input": "2023-06-25T08:30:42.739958Z",
     "iopub.status.busy": "2023-06-25T08:30:42.739356Z",
     "iopub.status.idle": "2023-06-25T08:30:42.947181Z",
     "shell.execute_reply": "2023-06-25T08:30:42.946192Z"
    },
    "papermill": {
     "duration": 0.219942,
     "end_time": "2023-06-25T08:30:42.950009",
     "exception": false,
     "start_time": "2023-06-25T08:30:42.730067",
     "status": "completed"
    },
    "tags": []
   },
   "outputs": [],
   "source": [
    "D = 50\n",
    "\n",
    "i = Input(shape=(T,))\n",
    "x = Embedding(V+1,D)(i)\n",
    "x = Conv1D(32, 3, activation = 'relu')(x)\n",
    "x = GlobalMaxPooling1D()(x)\n",
    "x = Dense(K)(x)\n",
    "\n",
    "model = Model(i,x)"
   ]
  },
  {
   "cell_type": "code",
   "execution_count": 13,
   "id": "b315ea8c",
   "metadata": {
    "execution": {
     "iopub.execute_input": "2023-06-25T08:30:42.966823Z",
     "iopub.status.busy": "2023-06-25T08:30:42.966404Z",
     "iopub.status.idle": "2023-06-25T08:30:42.989187Z",
     "shell.execute_reply": "2023-06-25T08:30:42.987911Z"
    },
    "papermill": {
     "duration": 0.042438,
     "end_time": "2023-06-25T08:30:43.000101",
     "exception": false,
     "start_time": "2023-06-25T08:30:42.957663",
     "status": "completed"
    },
    "tags": []
   },
   "outputs": [
    {
     "name": "stdout",
     "output_type": "stream",
     "text": [
      "Model: \"model\"\n",
      "_________________________________________________________________\n",
      " Layer (type)                Output Shape              Param #   \n",
      "=================================================================\n",
      " input_1 (InputLayer)        [(None, 2897)]            0         \n",
      "                                                                 \n",
      " embedding (Embedding)       (None, 2897, 50)          1279900   \n",
      "                                                                 \n",
      " conv1d (Conv1D)             (None, 2895, 32)          4832      \n",
      "                                                                 \n",
      " global_max_pooling1d (Globa  (None, 32)               0         \n",
      " lMaxPooling1D)                                                  \n",
      "                                                                 \n",
      " dense (Dense)               (None, 5)                 165       \n",
      "                                                                 \n",
      "=================================================================\n",
      "Total params: 1,284,897\n",
      "Trainable params: 1,284,897\n",
      "Non-trainable params: 0\n",
      "_________________________________________________________________\n"
     ]
    }
   ],
   "source": [
    "model.summary()"
   ]
  },
  {
   "cell_type": "code",
   "execution_count": 14,
   "id": "612f3d84",
   "metadata": {
    "execution": {
     "iopub.execute_input": "2023-06-25T08:30:43.020796Z",
     "iopub.status.busy": "2023-06-25T08:30:43.019615Z",
     "iopub.status.idle": "2023-06-25T08:30:43.040898Z",
     "shell.execute_reply": "2023-06-25T08:30:43.039673Z"
    },
    "papermill": {
     "duration": 0.034182,
     "end_time": "2023-06-25T08:30:43.043516",
     "exception": false,
     "start_time": "2023-06-25T08:30:43.009334",
     "status": "completed"
    },
    "tags": []
   },
   "outputs": [],
   "source": [
    "model.compile(\n",
    "    loss = SparseCategoricalCrossentropy(from_logits=True),\n",
    "    optimizer = 'adam',\n",
    "    metrics = ['accuracy']\n",
    ")"
   ]
  },
  {
   "cell_type": "code",
   "execution_count": 15,
   "id": "c6cb0f9e",
   "metadata": {
    "execution": {
     "iopub.execute_input": "2023-06-25T08:30:43.063672Z",
     "iopub.status.busy": "2023-06-25T08:30:43.063202Z",
     "iopub.status.idle": "2023-06-25T08:36:06.008349Z",
     "shell.execute_reply": "2023-06-25T08:36:06.007148Z"
    },
    "papermill": {
     "duration": 322.958711,
     "end_time": "2023-06-25T08:36:06.011393",
     "exception": false,
     "start_time": "2023-06-25T08:30:43.052682",
     "status": "completed"
    },
    "tags": []
   },
   "outputs": [
    {
     "name": "stdout",
     "output_type": "stream",
     "text": [
      "Epoch 1/50\n",
      "49/49 [==============================] - 6s 112ms/step - loss: 1.5772 - accuracy: 0.3526 - val_loss: 1.5051 - val_accuracy: 0.7440\n",
      "Epoch 2/50\n",
      "49/49 [==============================] - 5s 106ms/step - loss: 1.3666 - accuracy: 0.8298 - val_loss: 1.2174 - val_accuracy: 0.8533\n",
      "Epoch 3/50\n",
      "49/49 [==============================] - 5s 110ms/step - loss: 0.9613 - accuracy: 0.9030 - val_loss: 0.7458 - val_accuracy: 0.9177\n",
      "Epoch 4/50\n",
      "49/49 [==============================] - 5s 110ms/step - loss: 0.5184 - accuracy: 0.9338 - val_loss: 0.4134 - val_accuracy: 0.9296\n",
      "Epoch 5/50\n",
      "49/49 [==============================] - 5s 106ms/step - loss: 0.2752 - accuracy: 0.9589 - val_loss: 0.2778 - val_accuracy: 0.9416\n",
      "Epoch 6/50\n",
      "49/49 [==============================] - 5s 106ms/step - loss: 0.1700 - accuracy: 0.9788 - val_loss: 0.2277 - val_accuracy: 0.9401\n",
      "Epoch 7/50\n",
      "49/49 [==============================] - 5s 106ms/step - loss: 0.1147 - accuracy: 0.9859 - val_loss: 0.2009 - val_accuracy: 0.9431\n",
      "Epoch 8/50\n",
      "49/49 [==============================] - 5s 107ms/step - loss: 0.0803 - accuracy: 0.9897 - val_loss: 0.1835 - val_accuracy: 0.9476\n",
      "Epoch 9/50\n",
      "49/49 [==============================] - 5s 106ms/step - loss: 0.0583 - accuracy: 0.9942 - val_loss: 0.1733 - val_accuracy: 0.9506\n",
      "Epoch 10/50\n",
      "49/49 [==============================] - 6s 113ms/step - loss: 0.0427 - accuracy: 0.9968 - val_loss: 0.1675 - val_accuracy: 0.9536\n",
      "Epoch 11/50\n",
      "49/49 [==============================] - 5s 106ms/step - loss: 0.0322 - accuracy: 0.9987 - val_loss: 0.1643 - val_accuracy: 0.9536\n",
      "Epoch 12/50\n",
      "49/49 [==============================] - 5s 105ms/step - loss: 0.0249 - accuracy: 0.9994 - val_loss: 0.1613 - val_accuracy: 0.9536\n",
      "Epoch 13/50\n",
      "49/49 [==============================] - 5s 105ms/step - loss: 0.0197 - accuracy: 1.0000 - val_loss: 0.1595 - val_accuracy: 0.9536\n",
      "Epoch 14/50\n",
      "49/49 [==============================] - 5s 108ms/step - loss: 0.0159 - accuracy: 1.0000 - val_loss: 0.1585 - val_accuracy: 0.9551\n",
      "Epoch 15/50\n",
      "49/49 [==============================] - 5s 109ms/step - loss: 0.0131 - accuracy: 1.0000 - val_loss: 0.1581 - val_accuracy: 0.9551\n",
      "Epoch 16/50\n",
      "49/49 [==============================] - 6s 115ms/step - loss: 0.0110 - accuracy: 1.0000 - val_loss: 0.1581 - val_accuracy: 0.9536\n",
      "Epoch 17/50\n",
      "49/49 [==============================] - 5s 107ms/step - loss: 0.0093 - accuracy: 1.0000 - val_loss: 0.1581 - val_accuracy: 0.9551\n",
      "Epoch 18/50\n",
      "49/49 [==============================] - 5s 107ms/step - loss: 0.0080 - accuracy: 1.0000 - val_loss: 0.1583 - val_accuracy: 0.9536\n",
      "Epoch 19/50\n",
      "49/49 [==============================] - 5s 107ms/step - loss: 0.0069 - accuracy: 1.0000 - val_loss: 0.1591 - val_accuracy: 0.9536\n",
      "Epoch 20/50\n",
      "49/49 [==============================] - 5s 109ms/step - loss: 0.0061 - accuracy: 1.0000 - val_loss: 0.1592 - val_accuracy: 0.9521\n",
      "Epoch 21/50\n",
      "49/49 [==============================] - 5s 109ms/step - loss: 0.0053 - accuracy: 1.0000 - val_loss: 0.1596 - val_accuracy: 0.9551\n",
      "Epoch 22/50\n",
      "49/49 [==============================] - 6s 114ms/step - loss: 0.0047 - accuracy: 1.0000 - val_loss: 0.1603 - val_accuracy: 0.9551\n",
      "Epoch 23/50\n",
      "49/49 [==============================] - 5s 107ms/step - loss: 0.0042 - accuracy: 1.0000 - val_loss: 0.1608 - val_accuracy: 0.9566\n",
      "Epoch 24/50\n",
      "49/49 [==============================] - 5s 107ms/step - loss: 0.0038 - accuracy: 1.0000 - val_loss: 0.1616 - val_accuracy: 0.9551\n",
      "Epoch 25/50\n",
      "49/49 [==============================] - 5s 106ms/step - loss: 0.0034 - accuracy: 1.0000 - val_loss: 0.1622 - val_accuracy: 0.9551\n",
      "Epoch 26/50\n",
      "49/49 [==============================] - 5s 107ms/step - loss: 0.0031 - accuracy: 1.0000 - val_loss: 0.1629 - val_accuracy: 0.9536\n",
      "Epoch 27/50\n",
      "49/49 [==============================] - 5s 106ms/step - loss: 0.0028 - accuracy: 1.0000 - val_loss: 0.1638 - val_accuracy: 0.9536\n",
      "Epoch 28/50\n",
      "49/49 [==============================] - 6s 114ms/step - loss: 0.0026 - accuracy: 1.0000 - val_loss: 0.1644 - val_accuracy: 0.9551\n",
      "Epoch 29/50\n",
      "49/49 [==============================] - 5s 108ms/step - loss: 0.0024 - accuracy: 1.0000 - val_loss: 0.1649 - val_accuracy: 0.9536\n",
      "Epoch 30/50\n",
      "49/49 [==============================] - 5s 109ms/step - loss: 0.0022 - accuracy: 1.0000 - val_loss: 0.1657 - val_accuracy: 0.9551\n",
      "Epoch 31/50\n",
      "49/49 [==============================] - 5s 109ms/step - loss: 0.0020 - accuracy: 1.0000 - val_loss: 0.1664 - val_accuracy: 0.9551\n",
      "Epoch 32/50\n",
      "49/49 [==============================] - 5s 109ms/step - loss: 0.0018 - accuracy: 1.0000 - val_loss: 0.1673 - val_accuracy: 0.9551\n",
      "Epoch 33/50\n",
      "49/49 [==============================] - 5s 107ms/step - loss: 0.0017 - accuracy: 1.0000 - val_loss: 0.1678 - val_accuracy: 0.9566\n",
      "Epoch 34/50\n",
      "49/49 [==============================] - 5s 113ms/step - loss: 0.0016 - accuracy: 1.0000 - val_loss: 0.1684 - val_accuracy: 0.9566\n",
      "Epoch 35/50\n",
      "49/49 [==============================] - 5s 105ms/step - loss: 0.0015 - accuracy: 1.0000 - val_loss: 0.1691 - val_accuracy: 0.9566\n",
      "Epoch 36/50\n",
      "49/49 [==============================] - 5s 106ms/step - loss: 0.0014 - accuracy: 1.0000 - val_loss: 0.1697 - val_accuracy: 0.9551\n",
      "Epoch 37/50\n",
      "49/49 [==============================] - 5s 106ms/step - loss: 0.0013 - accuracy: 1.0000 - val_loss: 0.1705 - val_accuracy: 0.9551\n",
      "Epoch 38/50\n",
      "49/49 [==============================] - 5s 106ms/step - loss: 0.0012 - accuracy: 1.0000 - val_loss: 0.1712 - val_accuracy: 0.9566\n",
      "Epoch 39/50\n",
      "49/49 [==============================] - 5s 106ms/step - loss: 0.0011 - accuracy: 1.0000 - val_loss: 0.1716 - val_accuracy: 0.9566\n",
      "Epoch 40/50\n",
      "49/49 [==============================] - 5s 112ms/step - loss: 0.0011 - accuracy: 1.0000 - val_loss: 0.1724 - val_accuracy: 0.9551\n",
      "Epoch 41/50\n",
      "49/49 [==============================] - 5s 107ms/step - loss: 9.9255e-04 - accuracy: 1.0000 - val_loss: 0.1729 - val_accuracy: 0.9566\n",
      "Epoch 42/50\n",
      "49/49 [==============================] - 5s 106ms/step - loss: 9.3351e-04 - accuracy: 1.0000 - val_loss: 0.1734 - val_accuracy: 0.9566\n",
      "Epoch 43/50\n",
      "49/49 [==============================] - 5s 106ms/step - loss: 8.7985e-04 - accuracy: 1.0000 - val_loss: 0.1742 - val_accuracy: 0.9551\n",
      "Epoch 44/50\n",
      "49/49 [==============================] - 5s 106ms/step - loss: 8.2877e-04 - accuracy: 1.0000 - val_loss: 0.1746 - val_accuracy: 0.9566\n",
      "Epoch 45/50\n",
      "49/49 [==============================] - 5s 106ms/step - loss: 7.8378e-04 - accuracy: 1.0000 - val_loss: 0.1753 - val_accuracy: 0.9551\n",
      "Epoch 46/50\n",
      "49/49 [==============================] - 5s 113ms/step - loss: 7.4104e-04 - accuracy: 1.0000 - val_loss: 0.1758 - val_accuracy: 0.9551\n",
      "Epoch 47/50\n",
      "49/49 [==============================] - 5s 106ms/step - loss: 7.0136e-04 - accuracy: 1.0000 - val_loss: 0.1764 - val_accuracy: 0.9551\n",
      "Epoch 48/50\n",
      "49/49 [==============================] - 5s 104ms/step - loss: 6.6424e-04 - accuracy: 1.0000 - val_loss: 0.1772 - val_accuracy: 0.9551\n",
      "Epoch 49/50\n",
      "49/49 [==============================] - 5s 104ms/step - loss: 6.3018e-04 - accuracy: 1.0000 - val_loss: 0.1778 - val_accuracy: 0.9551\n",
      "Epoch 50/50\n",
      "49/49 [==============================] - 5s 107ms/step - loss: 5.9710e-04 - accuracy: 1.0000 - val_loss: 0.1783 - val_accuracy: 0.9551\n"
     ]
    }
   ],
   "source": [
    "r = model.fit(\n",
    "    data_train,\n",
    "    df_train['target'],\n",
    "    epochs = 50,\n",
    "    validation_data = (data_test, df_test['target'])\n",
    ")"
   ]
  },
  {
   "cell_type": "code",
   "execution_count": 16,
   "id": "eeaed69f",
   "metadata": {
    "execution": {
     "iopub.execute_input": "2023-06-25T08:36:06.483095Z",
     "iopub.status.busy": "2023-06-25T08:36:06.482702Z",
     "iopub.status.idle": "2023-06-25T08:36:06.842436Z",
     "shell.execute_reply": "2023-06-25T08:36:06.841386Z"
    },
    "papermill": {
     "duration": 0.598345,
     "end_time": "2023-06-25T08:36:06.844810",
     "exception": false,
     "start_time": "2023-06-25T08:36:06.246465",
     "status": "completed"
    },
    "tags": []
   },
   "outputs": [
    {
     "data": {
      "image/png": "[encoded data removed]",
      "text/plain": [
       "<Figure size 640x480 with 1 Axes>"
      ]
     },
     "metadata": {},
     "output_type": "display_data"
    }
   ],
   "source": [
    "import matplotlib.pyplot as plt\n",
    "\n",
    "plt.plot(r.history['loss'], label = 'train_loss')\n",
    "plt.plot(r.history['val_loss'],label = 'val_loss')\n",
    "plt.legend();"
   ]
  },
  {
   "cell_type": "code",
   "execution_count": 17,
   "id": "6bc26d2f",
   "metadata": {
    "execution": {
     "iopub.execute_input": "2023-06-25T08:36:07.315844Z",
     "iopub.status.busy": "2023-06-25T08:36:07.314962Z",
     "iopub.status.idle": "2023-06-25T08:36:07.640666Z",
     "shell.execute_reply": "2023-06-25T08:36:07.639607Z"
    },
    "papermill": {
     "duration": 0.563369,
     "end_time": "2023-06-25T08:36:07.643115",
     "exception": false,
     "start_time": "2023-06-25T08:36:07.079746",
     "status": "completed"
    },
    "tags": []
   },
   "outputs": [
    {
     "data": {
      "image/png": "[encoded data removed]",
      "text/plain": [
       "<Figure size 640x480 with 1 Axes>"
      ]
     },
     "metadata": {},
     "output_type": "display_data"
    }
   ],
   "source": [
    "plt.plot(r.history['accuracy'], label = 'accuracy')\n",
    "plt.plot(r.history['val_accuracy'], label = 'val_accuracy')\n",
    "plt.legend();"
   ]
  },
  {
   "cell_type": "code",
   "execution_count": null,
   "id": "d709bcd3",
   "metadata": {
    "papermill": {
     "duration": 0.234116,
     "end_time": "2023-06-25T08:36:08.111128",
     "exception": false,
     "start_time": "2023-06-25T08:36:07.877012",
     "status": "completed"
    },
    "tags": []
   },
   "outputs": [],
   "source": []
  }
 ],
 "metadata": {
  "kernelspec": {
   "display_name": "Python 3",
   "language": "python",
   "name": "python3"
  },
  "language_info": {
   "codemirror_mode": {
    "name": "ipython",
    "version": 3
   },
   "file_extension": ".py",
   "mimetype": "text/x-python",
   "name": "python",
   "nbconvert_exporter": "python",
   "pygments_lexer": "ipython3",
   "version": "3.10.10"
  },
  "papermill": {
   "default_parameters": {},
   "duration": 352.906867,
   "end_time": "2023-06-25T08:36:11.930552",
   "environment_variables": {},
   "exception": null,
   "input_path": "__notebook__.ipynb",
   "output_path": "__notebook__.ipynb",
   "parameters": {},
   "start_time": "2023-06-25T08:30:19.023685",
   "version": "2.4.0"
  }
 },
 "nbformat": 4,
 "nbformat_minor": 5
}
